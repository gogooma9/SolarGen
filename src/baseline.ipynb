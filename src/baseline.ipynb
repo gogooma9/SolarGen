{
  "nbformat": 4,
  "nbformat_minor": 0,
  "metadata": {
    "kernelspec": {
      "display_name": "Python 3",
      "language": "python",
      "name": "python3"
    },
    "language_info": {
      "codemirror_mode": {
        "name": "ipython",
        "version": 3
      },
      "file_extension": ".py",
      "mimetype": "text/x-python",
      "name": "python",
      "nbconvert_exporter": "python",
      "pygments_lexer": "ipython3",
      "version": "3.6.12"
    },
    "colab": {
      "name": "baseline.ipynb",
      "provenance": [],
      "collapsed_sections": []
    }
  },
  "cells": [
    {
      "cell_type": "code",
      "metadata": {
        "id": "inDNCSssI9c6"
      },
      "source": [
        "from google.colab import drive\n",
        "drive.mount('/content/drive')"
      ],
      "execution_count": null,
      "outputs": []
    },
    {
      "cell_type": "code",
      "metadata": {
        "id": "XcZRSpx3Izdw"
      },
      "source": [
        "import pandas as pd\n",
        "import numpy as np\n",
        "import os\n",
        "import glob\n",
        "import random\n",
        "\n",
        "import warnings\n",
        "warnings.filterwarnings(\"ignore\")\n",
        "\n",
        "data_path = '/content/drive/MyDrive/SolarGen/'"
      ],
      "execution_count": null,
      "outputs": []
    },
    {
      "cell_type": "markdown",
      "metadata": {
        "id": "JU3G-tGyIzdz"
      },
      "source": [
        "## Baseline"
      ]
    },
    {
      "cell_type": "code",
      "metadata": {
        "id": "20w-aShOIzdz"
      },
      "source": [
        "train = pd.read_csv(data_path + './data/train/train.csv')"
      ],
      "execution_count": null,
      "outputs": []
    },
    {
      "cell_type": "code",
      "metadata": {
        "id": "5KgSG1fmIzd0"
      },
      "source": [
        "train.tail()"
      ],
      "execution_count": null,
      "outputs": []
    },
    {
      "cell_type": "code",
      "metadata": {
        "id": "yT3x4EVvIzd1"
      },
      "source": [
        "submission = pd.read_csv(data_path + './data/sample_submission.csv')"
      ],
      "execution_count": null,
      "outputs": []
    },
    {
      "cell_type": "code",
      "metadata": {
        "id": "YhZJfgv6Izd1"
      },
      "source": [
        "submission.tail()"
      ],
      "execution_count": null,
      "outputs": []
    },
    {
      "cell_type": "code",
      "metadata": {
        "id": "EifJadKpIzd2"
      },
      "source": [
        "def create_lag_feats(data, lags, cols):\n",
        "    \n",
        "    lag_cols = []\n",
        "    temp = data.copy()\n",
        "    for col in cols:\n",
        "        for lag in lags:\n",
        "            temp[col + '_lag_%s'%lag] = temp[col].shift(lag)\n",
        "            temp['Target1'] = temp['TARGET']\n",
        "            temp['Target2'] = temp['TARGET'].shift(-48).fillna(method='ffill')  \n",
        "            lag_cols.append(col + '_lag_%s'%lag)\n",
        "\n",
        "    return temp, lag_cols\n",
        "    \n",
        "\n",
        "def preprocess_data(data, target_lags=[48], weather_lags=[48], is_train=True):\n",
        "    \n",
        "    temp = data.copy()\n",
        "\n",
        "    if is_train==True:          \n",
        "    \n",
        "        temp, temp_lag_cols1 = create_lag_feats(temp, target_lags, ['TARGET'])\n",
        "        temp, temp_lag_cols2 = create_lag_feats(temp, weather_lags, ['DHI', 'DNI', 'WS', 'RH', 'T'])\n",
        "     \n",
        "        return temp[['Hour'] + temp_lag_cols1 + temp_lag_cols2 + ['Target1', 'Target2']].dropna()\n",
        "\n",
        "    elif is_train==False:    \n",
        "        \n",
        "        temp, temp_lag_cols1 = create_lag_feats(temp, target_lags, ['TARGET'])\n",
        "        temp, temp_lag_cols2 = create_lag_feats(temp, weather_lags, ['DHI', 'DNI', 'WS', 'RH', 'T'])\n",
        "                              \n",
        "        return temp[['Hour'] + temp_lag_cols1 + temp_lag_cols2].dropna()\n",
        "\n",
        "\n",
        "df_train = preprocess_data(train, target_lags=[48], weather_lags=[48], is_train=True)\n",
        "df_train.iloc[:48]"
      ],
      "execution_count": null,
      "outputs": []
    },
    {
      "cell_type": "code",
      "metadata": {
        "id": "Wh1Ibs3iIzd4"
      },
      "source": [
        "train.iloc[48:96]"
      ],
      "execution_count": null,
      "outputs": []
    },
    {
      "cell_type": "code",
      "metadata": {
        "id": "3kOpZF_jIzd5"
      },
      "source": [
        "train.iloc[48+48:96+48]"
      ],
      "execution_count": null,
      "outputs": []
    },
    {
      "cell_type": "code",
      "metadata": {
        "id": "xY7pvRtqIzd5"
      },
      "source": [
        "df_train.tail()"
      ],
      "execution_count": null,
      "outputs": []
    },
    {
      "cell_type": "code",
      "metadata": {
        "id": "MBtPYepYIzd6"
      },
      "source": [
        "df_test = []\n",
        "\n",
        "for i in range(81):\n",
        "    file_path = data_path + './data/test/' + str(i) + '.csv'\n",
        "    temp = pd.read_csv(file_path)\n",
        "    temp = preprocess_data(temp, target_lags=[48], weather_lags=[48], is_train=False).iloc[-48:]\n",
        "    df_test.append(temp)\n",
        "\n",
        "X_test = pd.concat(df_test)\n",
        "X_test.shape"
      ],
      "execution_count": null,
      "outputs": []
    },
    {
      "cell_type": "code",
      "metadata": {
        "id": "orYJOsOTIzd6"
      },
      "source": [
        "X_test.head()"
      ],
      "execution_count": null,
      "outputs": []
    },
    {
      "cell_type": "code",
      "metadata": {
        "id": "otwmTMoOIzd7"
      },
      "source": [
        "X_test.duplicated().sum()"
      ],
      "execution_count": null,
      "outputs": []
    },
    {
      "cell_type": "code",
      "metadata": {
        "id": "PYfMt0k2Izd7"
      },
      "source": [
        "X_test[X_test.duplicated()]"
      ],
      "execution_count": null,
      "outputs": []
    },
    {
      "cell_type": "code",
      "metadata": {
        "id": "srEiFP7NIzd7"
      },
      "source": [
        "df_train.head()"
      ],
      "execution_count": null,
      "outputs": []
    },
    {
      "cell_type": "code",
      "metadata": {
        "id": "RsDH8DPIIzd8"
      },
      "source": [
        "from sklearn.model_selection import train_test_split\n",
        "X_train_1, X_valid_1, Y_train_1, Y_valid_1 = train_test_split(df_train.iloc[:, :-2], df_train.iloc[:, -2], test_size=0.3, random_state=0)\n",
        "X_train_2, X_valid_2, Y_train_2, Y_valid_2 = train_test_split(df_train.iloc[:, :-2], df_train.iloc[:, -1], test_size=0.3, random_state=0)"
      ],
      "execution_count": null,
      "outputs": []
    },
    {
      "cell_type": "code",
      "metadata": {
        "id": "Fs3HgaU5Izd8"
      },
      "source": [
        "X_train_1.head()"
      ],
      "execution_count": null,
      "outputs": []
    },
    {
      "cell_type": "code",
      "metadata": {
        "id": "baFHbMcuIzd8"
      },
      "source": [
        "X_test.head()"
      ],
      "execution_count": null,
      "outputs": []
    },
    {
      "cell_type": "code",
      "metadata": {
        "id": "sWSzGF16Izd9"
      },
      "source": [
        "X_test.head()"
      ],
      "execution_count": null,
      "outputs": []
    },
    {
      "cell_type": "code",
      "metadata": {
        "id": "S_rmRtgTIzd9"
      },
      "source": [
        "quantiles = [0.1, 0.2, 0.3, 0.4, 0.5, 0.6, 0.7, 0.8, 0.9]"
      ],
      "execution_count": null,
      "outputs": []
    },
    {
      "cell_type": "code",
      "metadata": {
        "id": "nEk21f5OIzd9"
      },
      "source": [
        "from lightgbm import LGBMRegressor\n",
        "\n",
        "# Get the model and the predictions in (a) - (b)\n",
        "def LGBM(q, X_train, Y_train, X_valid, Y_valid, X_test):\n",
        "    \n",
        "    # (a) Modeling  \n",
        "    model = LGBMRegressor(objective='quantile', alpha=q,\n",
        "                         n_estimators=10000, bagging_fraction=0.7, learning_rate=0.027, subsample=0.7)                   \n",
        "                         \n",
        "                         \n",
        "    model.fit(X_train, Y_train, eval_metric = ['quantile'], \n",
        "          eval_set=[(X_valid, Y_valid)], early_stopping_rounds=300, verbose=500)\n",
        "\n",
        "    # (b) Predictions\n",
        "    pred = pd.Series(model.predict(X_test).round(2))\n",
        "    return pred, model"
      ],
      "execution_count": null,
      "outputs": []
    },
    {
      "cell_type": "code",
      "metadata": {
        "id": "TN6O5hDpIzd-"
      },
      "source": [
        "# Target 예측\n",
        "\n",
        "def train_data(X_train, Y_train, X_valid, Y_valid, X_test):\n",
        "\n",
        "    LGBM_models=[]\n",
        "    LGBM_actual_pred = pd.DataFrame()\n",
        "\n",
        "    for q in quantiles:\n",
        "        print(q)\n",
        "        pred , model = LGBM(q, X_train, Y_train, X_valid, Y_valid, X_test)\n",
        "        LGBM_models.append(model)\n",
        "        LGBM_actual_pred = pd.concat([LGBM_actual_pred,pred],axis=1)\n",
        "\n",
        "    LGBM_actual_pred.columns=quantiles\n",
        "    \n",
        "    return LGBM_models, LGBM_actual_pred"
      ],
      "execution_count": null,
      "outputs": []
    },
    {
      "cell_type": "code",
      "metadata": {
        "id": "hfiWBL1yIzd-"
      },
      "source": [
        "# Target1\n",
        "models_1, results_1 = train_data(X_train_1, Y_train_1, X_valid_1, Y_valid_1, X_test)\n",
        "results_1.sort_index()[:48]"
      ],
      "execution_count": null,
      "outputs": []
    },
    {
      "cell_type": "code",
      "metadata": {
        "id": "royiK6DBIzd_"
      },
      "source": [
        "# Target2\n",
        "models_2, results_2 = train_data(X_train_2, Y_train_2, X_valid_2, Y_valid_2, X_test)\n",
        "results_2.sort_index()[:48]"
      ],
      "execution_count": null,
      "outputs": []
    },
    {
      "cell_type": "code",
      "metadata": {
        "id": "I61iqOOlIzd_"
      },
      "source": [
        "results_1.sort_index().iloc[:48]"
      ],
      "execution_count": null,
      "outputs": []
    },
    {
      "cell_type": "code",
      "metadata": {
        "id": "zD-PTdzrIzd_"
      },
      "source": [
        "results_2.sort_index()"
      ],
      "execution_count": null,
      "outputs": []
    },
    {
      "cell_type": "code",
      "metadata": {
        "id": "LLollKBcIzeA"
      },
      "source": [
        "print(results_1.shape, results_2.shape)"
      ],
      "execution_count": null,
      "outputs": []
    },
    {
      "cell_type": "code",
      "metadata": {
        "id": "oTEk70sUIzeA"
      },
      "source": [
        "submission.loc[submission.id.str.contains(\"Day7\"), \"q_0.1\":] = results_1.sort_index().values\n",
        "submission.loc[submission.id.str.contains(\"Day8\"), \"q_0.1\":] = results_2.sort_index().values\n",
        "submission"
      ],
      "execution_count": null,
      "outputs": []
    },
    {
      "cell_type": "code",
      "metadata": {
        "id": "Wy5wHftLIzeA"
      },
      "source": [
        "submission.iloc[:48]"
      ],
      "execution_count": null,
      "outputs": []
    },
    {
      "cell_type": "code",
      "metadata": {
        "id": "-l55WGchIzeB"
      },
      "source": [
        "submission.iloc[48:96]"
      ],
      "execution_count": null,
      "outputs": []
    },
    {
      "cell_type": "code",
      "metadata": {
        "id": "-huALc-2IzeB"
      },
      "source": [
        "# submission.to_csv(data_path + './data/submission.csv', index=False)"
      ],
      "execution_count": null,
      "outputs": []
    }
  ]
}