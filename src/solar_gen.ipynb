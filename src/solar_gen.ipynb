{
  "nbformat": 4,
  "nbformat_minor": 0,
  "metadata": {
    "kernelspec": {
      "display_name": "Python 3",
      "language": "python",
      "name": "python3"
    },
    "language_info": {
      "codemirror_mode": {
        "name": "ipython",
        "version": 3
      },
      "file_extension": ".py",
      "mimetype": "text/x-python",
      "name": "python",
      "nbconvert_exporter": "python",
      "pygments_lexer": "ipython3",
      "version": "3.6.12"
    },
    "colab": {
      "name": "solar_gen.ipynb",
      "provenance": [],
      "collapsed_sections": []
    }
  },
  "cells": [
    {
      "cell_type": "code",
      "metadata": {
        "id": "inDNCSssI9c6"
      },
      "source": [
        "from google.colab import drive\n",
        "drive.mount('/content/drive')"
      ],
      "execution_count": null,
      "outputs": []
    },
    {
      "cell_type": "code",
      "metadata": {
        "id": "0G12GfaP3dZj"
      },
      "source": [
        "import pandas as pd\r\n",
        "import numpy as np\r\n",
        "import os\r\n",
        "import glob\r\n",
        "import random\r\n",
        "\r\n",
        "import warnings\r\n",
        "warnings.filterwarnings(\"ignore\")\r\n",
        "\r\n",
        "data_path = '/content/drive/MyDrive/SolarGen/'"
      ],
      "execution_count": null,
      "outputs": []
    },
    {
      "cell_type": "markdown",
      "metadata": {
        "id": "JU3G-tGyIzdz"
      },
      "source": [
        "## Baseline"
      ]
    },
    {
      "cell_type": "code",
      "metadata": {
        "id": "MD5g6Zm76YPs"
      },
      "source": [
        "train = pd.read_csv(data_path + './data/train/train.csv')\r\n",
        "submission = pd.read_csv(data_path + './data/sample_submission.csv')"
      ],
      "execution_count": null,
      "outputs": []
    },
    {
      "cell_type": "code",
      "metadata": {
        "id": "gCD4KKYL6YRw"
      },
      "source": [
        "import sys\r\n",
        "import matplotlib.pyplot as plt\r\n",
        "from sklearn.preprocessing import (\r\n",
        "    MinMaxScaler, StandardScaler, RobustScaler, QuantileTransformer, \r\n",
        "    MaxAbsScaler, PowerTransformer\r\n",
        ")\r\n",
        "\r\n",
        "class ScalingFactor:\r\n",
        "    def __init__(self, scaler, features):\r\n",
        "        self.scaler = scaler\r\n",
        "        self.features = features\r\n",
        "\r\n",
        "def classify_data_byDHI(data):\r\n",
        "    '''\r\n",
        "    Classify data into two cases whether DHI is 0 or not\r\n",
        "    '''\r\n",
        "    zero_dhi = data[data['DHI'] < sys.float_info.epsilon]\r\n",
        "    nonzero_dhi = data[(data['DHI'] >= sys.float_info.epsilon)]\r\n",
        "\r\n",
        "    return zero_dhi, nonzero_dhi\r\n",
        "\r\n",
        "def scaling(data, scaler, features, is_train=True):\r\n",
        "\r\n",
        "    temp = data.copy()\r\n",
        "\r\n",
        "    target_cols = features\r\n",
        "    temp = temp[target_cols]\r\n",
        "    if is_train: \r\n",
        "        scaler.fit(temp)\r\n",
        "    scaled = scaler.transform(temp)\r\n",
        "\r\n",
        "    data[target_cols] = scaled\r\n",
        "\r\n",
        "    return data    \r\n",
        "\r\n",
        "def preprocess_data(data, scale_factors, is_train=True):\r\n",
        "    \r\n",
        "    temp = data.copy()\r\n",
        "\r\n",
        "    temp = temp[['Hour', 'TARGET', 'DHI', 'DNI', 'WS', 'RH', 'T']]\r\n",
        "\r\n",
        "    if is_train==True:          \r\n",
        "    \r\n",
        "        temp['Target1'] = temp['TARGET'].shift(-48).fillna(method='ffill')\r\n",
        "        temp['Target2'] = temp['TARGET'].shift(-48*2).fillna(method='ffill')\r\n",
        "        temp = temp.dropna()\r\n",
        "        temp = temp.iloc[:-96]\r\n",
        "\r\n",
        "    elif is_train==False:\r\n",
        "                              \r\n",
        "        temp = temp.iloc[-48:]\r\n",
        "        temp.index -= 48*6\r\n",
        "\r\n",
        "    zero_dhi, nonzero_dhi = classify_data_byDHI(temp)\r\n",
        "\r\n",
        "    for factor in scale_factors:\r\n",
        "        zero_dhi = scaling(zero_dhi, factor.scaler, factor.features, is_train)\r\n",
        "        nonzero_dhi = scaling(nonzero_dhi, factor.scaler, factor.features, is_train)\r\n",
        "\r\n",
        "    return zero_dhi, nonzero_dhi\r\n",
        "\r\n",
        "scale_factors = []\r\n",
        "# scale_factors.append(ScalingFactor(PowerTransformer(), ['DHI', 'DNI']))\r\n",
        "# scale_factors.append(ScalingFactor(QuantileTransformer(output_distribution='normal'), ['DNI']))\r\n",
        "# scale_factors.append(ScalingFactor(StandardScaler(), ['RH', 'T']))\r\n",
        "# scale_factors.append(ScalingFactor(MinMaxScaler(), ['DHI', 'DNI', 'WS', 'RH', 'T']))\r\n",
        "\r\n",
        "zero_dhi, nonzero_dhi = preprocess_data(train, scale_factors)\r\n",
        "print(zero_dhi.shape, nonzero_dhi.shape)"
      ],
      "execution_count": null,
      "outputs": []
    },
    {
      "cell_type": "code",
      "metadata": {
        "id": "Eopc0uutdYQd"
      },
      "source": [
        "nonzero_dhi.iloc[:, 1:].plot(subplots=True, layout=(1,8), figsize=(30,4))\r\n",
        "nonzero_dhi.iloc[:, 1:].hist(bins = 100, layout=(1,8), figsize=(30,4))"
      ],
      "execution_count": null,
      "outputs": []
    },
    {
      "cell_type": "code",
      "metadata": {
        "id": "gD2f_zX9gzPV"
      },
      "source": [
        "days = 48 * 2\r\n",
        "features = ['TARGET', 'DHI', 'DNI']\r\n",
        "for feature in features:\r\n",
        "    fig, ax = plt.subplots(figsize=(16,3))\r\n",
        "    ax.scatter(zero_dhi.loc[:days].index, zero_dhi.loc[:days][feature], color='k', label=\"DHI = 0\")\r\n",
        "    ax.scatter(nonzero_dhi.loc[:days].index, nonzero_dhi.loc[:days][feature], color='y', label=\"DHI != 0\")\r\n",
        "    ax.legend()\r\n",
        "    plt.xlabel('Index', fontsize=16)\r\n",
        "    plt.ylabel(feature, fontsize=16)"
      ],
      "execution_count": null,
      "outputs": []
    },
    {
      "cell_type": "code",
      "metadata": {
        "id": "91bsprcSTWJL"
      },
      "source": [
        "f = plt.figure(figsize=(12,4))\r\n",
        "ax = f.add_subplot(111)\r\n",
        "ax.hist(zero_dhi['Hour'], [i for i in range(24)], rwidth=0.8, color='k')\r\n",
        "ax.hist(nonzero_dhi['Hour'], [i for i in range(24)], rwidth=0.8, color='y', alpha=0.8)\r\n",
        "ax.set_xticks([i for i in range(24)])\r\n",
        "plt.show()"
      ],
      "execution_count": null,
      "outputs": []
    },
    {
      "cell_type": "code",
      "metadata": {
        "id": "zevLTDCn6YUA"
      },
      "source": [
        "X_zero_dhi_test = []\r\n",
        "X_nonzero_dhi_test = []\r\n",
        "\r\n",
        "for i in range(81):\r\n",
        "    file_path = data_path + './data/test/' + str(i) + '.csv'\r\n",
        "    temp = pd.read_csv(file_path)\r\n",
        "    zero, nonzero = preprocess_data(temp, scale_factors, is_train=False)\r\n",
        "    zero.index += i * 100\r\n",
        "    nonzero.index += i * 100\r\n",
        "    X_zero_dhi_test.append(zero)\r\n",
        "    X_nonzero_dhi_test.append(nonzero)\r\n",
        "\r\n",
        "X_zero_dhi_test_total = pd.concat(X_zero_dhi_test)\r\n",
        "X_nonzero_dhi_test_total = pd.concat(X_nonzero_dhi_test)\r\n",
        "\r\n",
        "X_nonzero_dhi_test[0].iloc[:, 1:].plot(subplots=True, layout=(1,6), figsize=(30,4))\r\n",
        "X_nonzero_dhi_test_total.iloc[:, 1:].hist(bins = 100, layout=(1,6), figsize=(30,4))"
      ],
      "execution_count": null,
      "outputs": []
    },
    {
      "cell_type": "code",
      "metadata": {
        "id": "wuvc3iJl6YWI"
      },
      "source": [
        "from sklearn.model_selection import train_test_split\r\n",
        "X_train_1, X_valid_1, Y_train_1, Y_valid_1 = train_test_split(nonzero_dhi.iloc[:, :-2], nonzero_dhi.iloc[:, -2], test_size=0.3, random_state=0)\r\n",
        "X_train_2, X_valid_2, Y_train_2, Y_valid_2 = train_test_split(nonzero_dhi.iloc[:, :-2], nonzero_dhi.iloc[:, -1], test_size=0.3, random_state=0)"
      ],
      "execution_count": null,
      "outputs": []
    },
    {
      "cell_type": "code",
      "metadata": {
        "id": "8jkD1ucj74Bo"
      },
      "source": [
        "quantiles = [0.1, 0.2, 0.3, 0.4, 0.5, 0.6, 0.7, 0.8, 0.9]"
      ],
      "execution_count": null,
      "outputs": []
    },
    {
      "cell_type": "code",
      "metadata": {
        "id": "ipeT12zx75DV"
      },
      "source": [
        "from lightgbm import LGBMRegressor\r\n",
        "\r\n",
        "# Get the model and the predictions in (a) - (b)\r\n",
        "def LGBM(q, X_train, Y_train, X_valid, Y_valid, X_test):\r\n",
        "    \r\n",
        "    # (a) Modeling  \r\n",
        "    model = LGBMRegressor(objective='quantile', alpha=q,\r\n",
        "                         n_estimators=10000, bagging_fraction=0.7, learning_rate=0.027, subsample=0.7)                   \r\n",
        "                         \r\n",
        "                         \r\n",
        "    model.fit(X_train, Y_train, eval_metric = ['quantile'], \r\n",
        "          eval_set=[(X_valid, Y_valid)], early_stopping_rounds=300, verbose=500)\r\n",
        "\r\n",
        "    # (b) Predictions\r\n",
        "    pred = pd.Series(model.predict(X_test).round(2))\r\n",
        "    return pred, model"
      ],
      "execution_count": null,
      "outputs": []
    },
    {
      "cell_type": "code",
      "metadata": {
        "id": "TN6O5hDpIzd-"
      },
      "source": [
        "# Target 예측\n",
        "import sys\n",
        "from io import StringIO\n",
        "\n",
        "def get_best_quantiles(data):\n",
        "\n",
        "    best_indexes = []\n",
        "    best_quantiles = {}\n",
        "\n",
        "    lines = data.splitlines()\n",
        "\n",
        "    for i, line in enumerate(lines):\n",
        "        if \"best\" in line:\n",
        "            best_indexes.append(i+1)\n",
        "\n",
        "    for i in range(9):\n",
        "        key = (i+1) * 0.1\n",
        "        val = float(lines[best_indexes[i]].split(\":\")[-1].strip())\n",
        "        best_quantiles[key] = val\n",
        "\n",
        "    return best_quantiles\n",
        "\n",
        "def train_data(X_train, Y_train, X_valid, Y_valid, X_test):\n",
        "\n",
        "    LGBM_models=[]\n",
        "    LGBM_actual_pred = pd.DataFrame()\n",
        "    \n",
        "    old_stdout = sys.stdout\n",
        "    sys.stdout = my_stdout = StringIO()\n",
        "    for q in quantiles:\n",
        "        print(q)\n",
        "        pred_result = pd.Series()\n",
        "\n",
        "        pred , model = LGBM(q, X_train, Y_train, X_valid, Y_valid, X_test)\n",
        "        LGBM_models.append(model)\n",
        "        pred.index = X_nonzero_dhi_test_total.index\n",
        "\n",
        "        zero_pred = pd.Series([0.0 for i in range(len(X_zero_dhi_test_total))], X_zero_dhi_test_total.index)\n",
        "        pred_result = pd.concat([pred, zero_pred], axis=0)\n",
        "        pred_result = pred_result.sort_index()\n",
        "\n",
        "        LGBM_actual_pred = pd.concat([LGBM_actual_pred,pred_result],axis=1)\n",
        "    \n",
        "    sys.stdout = old_stdout\n",
        "    results_out = my_stdout.getvalue()\n",
        "    LGBM_losses = get_best_quantiles(results_out)\n",
        "\n",
        "    LGBM_actual_pred.columns=quantiles\n",
        "    \n",
        "    return LGBM_models, LGBM_actual_pred, LGBM_losses"
      ],
      "execution_count": null,
      "outputs": []
    },
    {
      "cell_type": "code",
      "metadata": {
        "id": "hfiWBL1yIzd-"
      },
      "source": [
        "# Target1\n",
        "models_1, results_1, loss_1 = train_data(X_train_1, Y_train_1, X_valid_1, Y_valid_1, X_nonzero_dhi_test_total)\n",
        "results_1.sort_index()[:48]"
      ],
      "execution_count": null,
      "outputs": []
    },
    {
      "cell_type": "code",
      "metadata": {
        "id": "sxcJUV3WJwDZ"
      },
      "source": [
        "results_1.iloc[:48]"
      ],
      "execution_count": null,
      "outputs": []
    },
    {
      "cell_type": "code",
      "metadata": {
        "id": "qZQB5gs2_JHj"
      },
      "source": [
        "for key, val in loss_1.items():\r\n",
        "    print(\"[%.1f]\"%key + \"\\t%f\"%val)\r\n",
        "print(\"[avg]\\t%.6f\"%np.average(list(loss_1.values())))"
      ],
      "execution_count": null,
      "outputs": []
    },
    {
      "cell_type": "code",
      "metadata": {
        "id": "royiK6DBIzd_"
      },
      "source": [
        "# Target2\n",
        "models_2, results_2, loss_2 = train_data(X_train_2, Y_train_2, X_valid_2, Y_valid_2, X_nonzero_dhi_test_total)\n",
        "results_2.sort_index()[:48]"
      ],
      "execution_count": null,
      "outputs": []
    },
    {
      "cell_type": "code",
      "metadata": {
        "id": "NAgofGmeJkCw"
      },
      "source": [
        "for key, val in loss_2.items():\r\n",
        "    print(\"[%.1f]\"%key + \"\\t%f\"%val)\r\n",
        "print(\"[avg]\\t%.6f\"%np.average(list(loss_2.values())))"
      ],
      "execution_count": null,
      "outputs": []
    },
    {
      "cell_type": "code",
      "metadata": {
        "id": "oTEk70sUIzeA"
      },
      "source": [
        "submission.loc[submission.id.str.contains(\"Day7\"), \"q_0.1\":] = results_1.values\n",
        "submission.loc[submission.id.str.contains(\"Day8\"), \"q_0.1\":] = results_2.values\n",
        "submission"
      ],
      "execution_count": null,
      "outputs": []
    },
    {
      "cell_type": "code",
      "metadata": {
        "id": "Cxno8RIJDJfV"
      },
      "source": [
        "submission.iloc[:48]"
      ],
      "execution_count": null,
      "outputs": []
    },
    {
      "cell_type": "code",
      "metadata": {
        "id": "-huALc-2IzeB"
      },
      "source": [
        "# submission.to_csv(data_path + './data/submission.csv', index=False)"
      ],
      "execution_count": null,
      "outputs": []
    }
  ]
}