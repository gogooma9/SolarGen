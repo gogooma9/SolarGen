{
  "nbformat": 4,
  "nbformat_minor": 0,
  "metadata": {
    "kernelspec": {
      "display_name": "Python 3",
      "language": "python",
      "name": "python3"
    },
    "language_info": {
      "codemirror_mode": {
        "name": "ipython",
        "version": 3
      },
      "file_extension": ".py",
      "mimetype": "text/x-python",
      "name": "python",
      "nbconvert_exporter": "python",
      "pygments_lexer": "ipython3",
      "version": "3.6.12"
    },
    "colab": {
      "name": "solar_gen",
      "provenance": [],
      "collapsed_sections": [],
      "include_colab_link": true
    }
  },
  "cells": [
    {
      "cell_type": "markdown",
      "metadata": {
        "id": "view-in-github",
        "colab_type": "text"
      },
      "source": [
        "<a href=\"https://colab.research.google.com/github/gogooma9/SolarGen/blob/rf/src/solar_gen.ipynb\" target=\"_parent\"><img src=\"https://colab.research.google.com/assets/colab-badge.svg\" alt=\"Open In Colab\"/></a>"
      ]
    },
    {
      "cell_type": "code",
      "metadata": {
        "id": "inDNCSssI9c6",
        "colab": {
          "base_uri": "https://localhost:8080/"
        },
        "outputId": "f0402555-5179-4559-9c32-a1ecfd66b287"
      },
      "source": [
        "from google.colab import drive\n",
        "drive.mount('/content/drive')"
      ],
      "execution_count": null,
      "outputs": [
        {
          "output_type": "stream",
          "text": [
            "Drive already mounted at /content/drive; to attempt to forcibly remount, call drive.mount(\"/content/drive\", force_remount=True).\n"
          ],
          "name": "stdout"
        }
      ]
    },
    {
      "cell_type": "code",
      "metadata": {
        "id": "0G12GfaP3dZj"
      },
      "source": [
        "import pandas as pd\r\n",
        "import numpy as np\r\n",
        "import os\r\n",
        "import glob\r\n",
        "import random\r\n",
        "\r\n",
        "import warnings\r\n",
        "warnings.filterwarnings(\"ignore\")\r\n",
        "\r\n",
        "data_path = '/content/drive/MyDrive/SolarGen/'"
      ],
      "execution_count": null,
      "outputs": []
    },
    {
      "cell_type": "markdown",
      "metadata": {
        "id": "JU3G-tGyIzdz"
      },
      "source": [
        "## Baseline"
      ]
    },
    {
      "cell_type": "code",
      "metadata": {
        "id": "MD5g6Zm76YPs"
      },
      "source": [
        "train = pd.read_csv(data_path + './data/train/train.csv')\r\n",
        "submission = pd.read_csv(data_path + './data/sample_submission.csv')"
      ],
      "execution_count": null,
      "outputs": []
    },
    {
      "cell_type": "code",
      "metadata": {
        "colab": {
          "base_uri": "https://localhost:8080/",
          "height": 425
        },
        "id": "QlNEe9jQUZJM",
        "outputId": "d0f199e4-e9ff-43d5-c39c-7344e295bf8d"
      },
      "source": [
        "from sklearn.neighbors import LocalOutlierFactor\r\n",
        "import scipy.interpolate as interpolate\r\n",
        "\r\n",
        "\r\n",
        "def LOF(data, neighbors = 20 ,conta =0.01):\r\n",
        "    temp = data.copy()\r\n",
        "    temp = temp[['DHI', 'DNI']]\r\n",
        "\r\n",
        "    clf = LocalOutlierFactor(n_neighbors = neighbors, contamination = conta , p = 2)\r\n",
        "    y_pred = clf.fit_predict(temp)\r\n",
        "\r\n",
        "    return y_pred\r\n",
        "\r\n",
        "#p = 1 or 2\r\n",
        "#neighbors\r\n",
        "#conta\r\n",
        "#number of variables\r\n",
        "\r\n",
        "train_afterLOF = pd.DataFrame(LOF(train, 20, 0.005))\r\n",
        "\r\n",
        "outlier_idx = train_afterLOF[train_afterLOF[0] < 1].index\r\n",
        "print(len(outlier_idx))\r\n",
        "\r\n",
        "train.drop(outlier_idx, axis=0, inplace=True)\r\n",
        "\r\n",
        "new_idx = [i for i in range(0,52560)]\r\n",
        "added_idx_train = train.reindex(new_idx)\r\n",
        "train = added_idx_train.interpolate(method = 'linear',limit_direction='forward')\r\n",
        "train"
      ],
      "execution_count": null,
      "outputs": [
        {
          "output_type": "stream",
          "text": [
            "263\n"
          ],
          "name": "stdout"
        },
        {
          "output_type": "execute_result",
          "data": {
            "text/html": [
              "<div>\n",
              "<style scoped>\n",
              "    .dataframe tbody tr th:only-of-type {\n",
              "        vertical-align: middle;\n",
              "    }\n",
              "\n",
              "    .dataframe tbody tr th {\n",
              "        vertical-align: top;\n",
              "    }\n",
              "\n",
              "    .dataframe thead th {\n",
              "        text-align: right;\n",
              "    }\n",
              "</style>\n",
              "<table border=\"1\" class=\"dataframe\">\n",
              "  <thead>\n",
              "    <tr style=\"text-align: right;\">\n",
              "      <th></th>\n",
              "      <th>Day</th>\n",
              "      <th>Hour</th>\n",
              "      <th>Minute</th>\n",
              "      <th>DHI</th>\n",
              "      <th>DNI</th>\n",
              "      <th>WS</th>\n",
              "      <th>RH</th>\n",
              "      <th>T</th>\n",
              "      <th>TARGET</th>\n",
              "    </tr>\n",
              "  </thead>\n",
              "  <tbody>\n",
              "    <tr>\n",
              "      <th>0</th>\n",
              "      <td>0.0</td>\n",
              "      <td>0.0</td>\n",
              "      <td>0.0</td>\n",
              "      <td>0.0</td>\n",
              "      <td>0.0</td>\n",
              "      <td>1.5</td>\n",
              "      <td>69.08</td>\n",
              "      <td>-12.0</td>\n",
              "      <td>0.0</td>\n",
              "    </tr>\n",
              "    <tr>\n",
              "      <th>1</th>\n",
              "      <td>0.0</td>\n",
              "      <td>0.0</td>\n",
              "      <td>30.0</td>\n",
              "      <td>0.0</td>\n",
              "      <td>0.0</td>\n",
              "      <td>1.5</td>\n",
              "      <td>69.06</td>\n",
              "      <td>-12.0</td>\n",
              "      <td>0.0</td>\n",
              "    </tr>\n",
              "    <tr>\n",
              "      <th>2</th>\n",
              "      <td>0.0</td>\n",
              "      <td>1.0</td>\n",
              "      <td>0.0</td>\n",
              "      <td>0.0</td>\n",
              "      <td>0.0</td>\n",
              "      <td>1.6</td>\n",
              "      <td>71.78</td>\n",
              "      <td>-12.0</td>\n",
              "      <td>0.0</td>\n",
              "    </tr>\n",
              "    <tr>\n",
              "      <th>3</th>\n",
              "      <td>0.0</td>\n",
              "      <td>1.0</td>\n",
              "      <td>30.0</td>\n",
              "      <td>0.0</td>\n",
              "      <td>0.0</td>\n",
              "      <td>1.6</td>\n",
              "      <td>71.75</td>\n",
              "      <td>-12.0</td>\n",
              "      <td>0.0</td>\n",
              "    </tr>\n",
              "    <tr>\n",
              "      <th>4</th>\n",
              "      <td>0.0</td>\n",
              "      <td>2.0</td>\n",
              "      <td>0.0</td>\n",
              "      <td>0.0</td>\n",
              "      <td>0.0</td>\n",
              "      <td>1.6</td>\n",
              "      <td>75.20</td>\n",
              "      <td>-12.0</td>\n",
              "      <td>0.0</td>\n",
              "    </tr>\n",
              "    <tr>\n",
              "      <th>...</th>\n",
              "      <td>...</td>\n",
              "      <td>...</td>\n",
              "      <td>...</td>\n",
              "      <td>...</td>\n",
              "      <td>...</td>\n",
              "      <td>...</td>\n",
              "      <td>...</td>\n",
              "      <td>...</td>\n",
              "      <td>...</td>\n",
              "    </tr>\n",
              "    <tr>\n",
              "      <th>52555</th>\n",
              "      <td>1094.0</td>\n",
              "      <td>21.0</td>\n",
              "      <td>30.0</td>\n",
              "      <td>0.0</td>\n",
              "      <td>0.0</td>\n",
              "      <td>2.4</td>\n",
              "      <td>70.70</td>\n",
              "      <td>-4.0</td>\n",
              "      <td>0.0</td>\n",
              "    </tr>\n",
              "    <tr>\n",
              "      <th>52556</th>\n",
              "      <td>1094.0</td>\n",
              "      <td>22.0</td>\n",
              "      <td>0.0</td>\n",
              "      <td>0.0</td>\n",
              "      <td>0.0</td>\n",
              "      <td>2.4</td>\n",
              "      <td>66.79</td>\n",
              "      <td>-4.0</td>\n",
              "      <td>0.0</td>\n",
              "    </tr>\n",
              "    <tr>\n",
              "      <th>52557</th>\n",
              "      <td>1094.0</td>\n",
              "      <td>22.0</td>\n",
              "      <td>30.0</td>\n",
              "      <td>0.0</td>\n",
              "      <td>0.0</td>\n",
              "      <td>2.2</td>\n",
              "      <td>66.78</td>\n",
              "      <td>-4.0</td>\n",
              "      <td>0.0</td>\n",
              "    </tr>\n",
              "    <tr>\n",
              "      <th>52558</th>\n",
              "      <td>1094.0</td>\n",
              "      <td>23.0</td>\n",
              "      <td>0.0</td>\n",
              "      <td>0.0</td>\n",
              "      <td>0.0</td>\n",
              "      <td>2.1</td>\n",
              "      <td>67.72</td>\n",
              "      <td>-4.0</td>\n",
              "      <td>0.0</td>\n",
              "    </tr>\n",
              "    <tr>\n",
              "      <th>52559</th>\n",
              "      <td>1094.0</td>\n",
              "      <td>23.0</td>\n",
              "      <td>30.0</td>\n",
              "      <td>0.0</td>\n",
              "      <td>0.0</td>\n",
              "      <td>2.1</td>\n",
              "      <td>67.70</td>\n",
              "      <td>-4.0</td>\n",
              "      <td>0.0</td>\n",
              "    </tr>\n",
              "  </tbody>\n",
              "</table>\n",
              "<p>52560 rows × 9 columns</p>\n",
              "</div>"
            ],
            "text/plain": [
              "          Day  Hour  Minute  DHI  DNI   WS     RH     T  TARGET\n",
              "0         0.0   0.0     0.0  0.0  0.0  1.5  69.08 -12.0     0.0\n",
              "1         0.0   0.0    30.0  0.0  0.0  1.5  69.06 -12.0     0.0\n",
              "2         0.0   1.0     0.0  0.0  0.0  1.6  71.78 -12.0     0.0\n",
              "3         0.0   1.0    30.0  0.0  0.0  1.6  71.75 -12.0     0.0\n",
              "4         0.0   2.0     0.0  0.0  0.0  1.6  75.20 -12.0     0.0\n",
              "...       ...   ...     ...  ...  ...  ...    ...   ...     ...\n",
              "52555  1094.0  21.0    30.0  0.0  0.0  2.4  70.70  -4.0     0.0\n",
              "52556  1094.0  22.0     0.0  0.0  0.0  2.4  66.79  -4.0     0.0\n",
              "52557  1094.0  22.0    30.0  0.0  0.0  2.2  66.78  -4.0     0.0\n",
              "52558  1094.0  23.0     0.0  0.0  0.0  2.1  67.72  -4.0     0.0\n",
              "52559  1094.0  23.0    30.0  0.0  0.0  2.1  67.70  -4.0     0.0\n",
              "\n",
              "[52560 rows x 9 columns]"
            ]
          },
          "metadata": {
            "tags": []
          },
          "execution_count": 6
        }
      ]
    },
    {
      "cell_type": "code",
      "metadata": {
        "id": "gCD4KKYL6YRw",
        "colab": {
          "base_uri": "https://localhost:8080/",
          "height": 1000
        },
        "outputId": "d013e80c-511c-489f-c8fe-4022b284485f"
      },
      "source": [
        "import matplotlib.pyplot as plt\r\n",
        "from sklearn.preprocessing import (\r\n",
        "    MinMaxScaler, StandardScaler, RobustScaler, QuantileTransformer, \r\n",
        "    MaxAbsScaler, PowerTransformer\r\n",
        ")\r\n",
        "\r\n",
        "def scaling(data, scaler, is_train=True):\r\n",
        "\r\n",
        "    temp = data.copy()\r\n",
        "\r\n",
        "    target_cols = ['DHI', 'DNI', 'WS', 'RH', 'T']\r\n",
        "    temp = temp[target_cols]\r\n",
        "    if is_train: \r\n",
        "        scaler.fit(temp)\r\n",
        "    scaled = scaler.transform(temp)\r\n",
        "\r\n",
        "    data[target_cols] = scaled\r\n",
        "\r\n",
        "    return data     \r\n",
        "\r\n",
        "def preprocess_data(data, scalers, is_train=True):\r\n",
        "    \r\n",
        "    temp = data.copy()\r\n",
        "\r\n",
        "    for scaler in scalers:\r\n",
        "        temp = scaling(temp, scaler, is_train)\r\n",
        "\r\n",
        "    temp = temp[['Hour', 'TARGET', 'DHI', 'DNI', 'WS', 'RH', 'T']]\r\n",
        "\r\n",
        "    if is_train==True:          \r\n",
        "    \r\n",
        "        temp['Target1'] = temp['TARGET'].shift(-48).fillna(method='ffill')\r\n",
        "        temp['Target2'] = temp['TARGET'].shift(-48*2).fillna(method='ffill')\r\n",
        "        temp = temp.dropna()\r\n",
        "        \r\n",
        "        return temp.iloc[:-96]\r\n",
        "\r\n",
        "    elif is_train==False:\r\n",
        "        \r\n",
        "        temp = temp[['Hour', 'TARGET', 'DHI', 'DNI', 'WS', 'RH', 'T']]\r\n",
        "                              \r\n",
        "        return temp.iloc[-48:, :]\r\n",
        "\r\n",
        "scalers = []\r\n",
        "scalers.append(MinMaxScaler())\r\n",
        "scalers.append(StandardScaler())\r\n",
        "# scalers.append(RobustScaler())\r\n",
        "# scalers.append(MaxAbsScaler())\r\n",
        "# scalers.append(QuantileTransformer(n_quantiles=900))\r\n",
        "# scalers.append(PowerTransformer(method='yeo-johnson'))\r\n",
        "# scalers.append(PowerTransformer(method='box-cox'))\r\n",
        "\r\n",
        "df_train = preprocess_data(train, scalers)\r\n",
        "df_train.plot(subplots=True, layout=(3,3), figsize=(20,15))\r\n",
        "df_train.hist(bins = 100, figsize=(20,15))"
      ],
      "execution_count": null,
      "outputs": [
        {
          "output_type": "execute_result",
          "data": {
            "text/plain": [
              "array([[<matplotlib.axes._subplots.AxesSubplot object at 0x7f1937897908>,\n",
              "        <matplotlib.axes._subplots.AxesSubplot object at 0x7f19378425c0>,\n",
              "        <matplotlib.axes._subplots.AxesSubplot object at 0x7f1937875828>],\n",
              "       [<matplotlib.axes._subplots.AxesSubplot object at 0x7f1937828a90>,\n",
              "        <matplotlib.axes._subplots.AxesSubplot object at 0x7f1937b55fd0>,\n",
              "        <matplotlib.axes._subplots.AxesSubplot object at 0x7f1937897550>],\n",
              "       [<matplotlib.axes._subplots.AxesSubplot object at 0x7f19377b3a58>,\n",
              "        <matplotlib.axes._subplots.AxesSubplot object at 0x7f1937768c88>,\n",
              "        <matplotlib.axes._subplots.AxesSubplot object at 0x7f1937768cf8>]],\n",
              "      dtype=object)"
            ]
          },
          "metadata": {
            "tags": []
          },
          "execution_count": 7
        },
        {
          "output_type": "display_data",
          "data": {
            "image/png": "[encoded data removed]",
            "text/plain": [
              "<Figure size 1440x1080 with 9 Axes>"
            ]
          },
          "metadata": {
            "tags": [],
            "needs_background": "light"
          }
        },
        {
          "output_type": "display_data",
          "data": {
            "image/png": "[encoded data removed]",
            "text/plain": [
              "<Figure size 1440x1080 with 9 Axes>"
            ]
          },
          "metadata": {
            "tags": [],
            "needs_background": "light"
          }
        }
      ]
    },
    {
      "cell_type": "code",
      "metadata": {
        "id": "zevLTDCn6YUA",
        "colab": {
          "base_uri": "https://localhost:8080/"
        },
        "outputId": "c4e5e3d8-b1b4-4878-b44a-4ca089cc00a2"
      },
      "source": [
        "df_test = []\r\n",
        "\r\n",
        "for i in range(81):\r\n",
        "    file_path = data_path + './data/test/' + str(i) + '.csv'\r\n",
        "    temp = pd.read_csv(file_path)\r\n",
        "    temp = preprocess_data(temp, scalers, is_train=False)\r\n",
        "    df_test.append(temp)\r\n",
        "\r\n",
        "X_test = pd.concat(df_test)\r\n",
        "X_test.shape"
      ],
      "execution_count": null,
      "outputs": [
        {
          "output_type": "execute_result",
          "data": {
            "text/plain": [
              "(3888, 7)"
            ]
          },
          "metadata": {
            "tags": []
          },
          "execution_count": 8
        }
      ]
    },
    {
      "cell_type": "code",
      "metadata": {
        "id": "wuvc3iJl6YWI"
      },
      "source": [
        "from sklearn.model_selection import train_test_split\r\n",
        "X_train_1, Y_train_1 = df_train.iloc[:, :-2], df_train.iloc[:, -2]\r\n",
        "X_train_2, Y_train_2 = df_train.iloc[:, :-2], df_train.iloc[:, -1]"
      ],
      "execution_count": null,
      "outputs": []
    },
    {
      "cell_type": "code",
      "metadata": {
        "id": "8jkD1ucj74Bo"
      },
      "source": [
        "quantiles = [0.1, 0.2, 0.3, 0.4, 0.5, 0.6, 0.7, 0.8, 0.9]"
      ],
      "execution_count": null,
      "outputs": []
    },
    {
      "cell_type": "code",
      "metadata": {
        "id": "pgw6uVNS5Axo"
      },
      "source": [
        "from sklearn.model_selection import cross_val_score, GridSearchCV\r\n",
        "from sklearn.ensemble import RandomForestRegressor"
      ],
      "execution_count": null,
      "outputs": []
    },
    {
      "cell_type": "code",
      "metadata": {
        "id": "Fz4sqsCx4gLr"
      },
      "source": [
        "def fr_model_score(X, y):\r\n",
        "# Perform Grid-Search\r\n",
        "    gsc = GridSearchCV(\r\n",
        "        estimator=RandomForestRegressor(),\r\n",
        "        param_grid={'max_depth': range(3,4), 'n_estimators': (500,1000)},\r\n",
        "        cv=5, scoring='neg_mean_squared_error', verbose=0, n_jobs=-1)\r\n",
        "    \r\n",
        "    grid_result = gsc.fit(X, y)\r\n",
        "    best_params = grid_result.best_params_\r\n",
        "    \r\n",
        "    rf = RandomForestRegressor(max_depth=best_params[\"max_depth\"], \r\n",
        "                               n_estimators=best_params[\"n_estimators\"], \r\n",
        "                               random_state=0, verbose=True, n_jobs=-1, max_features = 'auto')\r\n",
        "\r\n",
        "# Perform K-Fold CV\r\n",
        "    scores = cross_val_score(rf, X, y, cv=5, scoring='neg_mean_absolute_error')\r\n",
        "\r\n",
        "    return scores\r\n"
      ],
      "execution_count": null,
      "outputs": []
    },
    {
      "cell_type": "code",
      "metadata": {
        "colab": {
          "base_uri": "https://localhost:8080/"
        },
        "id": "g3hjfLGtpajw",
        "outputId": "121fbd15-a9e1-4eca-b243-2e39965a4981"
      },
      "source": [
        "fr_model_score(X_train_1, Y_train_1)"
      ],
      "execution_count": null,
      "outputs": [
        {
          "output_type": "stream",
          "text": [
            "[Parallel(n_jobs=-1)]: Using backend LokyBackend with 2 concurrent workers.\n",
            "[Parallel(n_jobs=-1)]: Done 164 tasks      | elapsed:    4.5s\n",
            "[Parallel(n_jobs=-1)]: Done 764 tasks      | elapsed:   20.7s\n",
            "[Parallel(n_jobs=-1)]: Done 1000 out of 1000 | elapsed:   27.1s finished\n",
            "[Parallel(n_jobs=2)]: Using backend ThreadingBackend with 2 concurrent workers.\n",
            "[Parallel(n_jobs=2)]: Done  46 tasks      | elapsed:    0.0s\n",
            "[Parallel(n_jobs=2)]: Done 196 tasks      | elapsed:    0.1s\n",
            "[Parallel(n_jobs=2)]: Done 446 tasks      | elapsed:    0.2s\n",
            "[Parallel(n_jobs=2)]: Done 796 tasks      | elapsed:    0.3s\n",
            "[Parallel(n_jobs=2)]: Done 1000 out of 1000 | elapsed:    0.3s finished\n",
            "[Parallel(n_jobs=-1)]: Using backend LokyBackend with 2 concurrent workers.\n",
            "[Parallel(n_jobs=-1)]: Done 164 tasks      | elapsed:    4.6s\n",
            "[Parallel(n_jobs=-1)]: Done 764 tasks      | elapsed:   21.0s\n",
            "[Parallel(n_jobs=-1)]: Done 1000 out of 1000 | elapsed:   27.5s finished\n",
            "[Parallel(n_jobs=2)]: Using backend ThreadingBackend with 2 concurrent workers.\n",
            "[Parallel(n_jobs=2)]: Done  46 tasks      | elapsed:    0.0s\n",
            "[Parallel(n_jobs=2)]: Done 196 tasks      | elapsed:    0.1s\n",
            "[Parallel(n_jobs=2)]: Done 446 tasks      | elapsed:    0.1s\n",
            "[Parallel(n_jobs=2)]: Done 796 tasks      | elapsed:    0.3s\n",
            "[Parallel(n_jobs=2)]: Done 1000 out of 1000 | elapsed:    0.3s finished\n",
            "[Parallel(n_jobs=-1)]: Using backend LokyBackend with 2 concurrent workers.\n",
            "[Parallel(n_jobs=-1)]: Done 164 tasks      | elapsed:    4.4s\n",
            "[Parallel(n_jobs=-1)]: Done 764 tasks      | elapsed:   21.0s\n",
            "[Parallel(n_jobs=-1)]: Done 1000 out of 1000 | elapsed:   27.5s finished\n",
            "[Parallel(n_jobs=2)]: Using backend ThreadingBackend with 2 concurrent workers.\n",
            "[Parallel(n_jobs=2)]: Done  46 tasks      | elapsed:    0.0s\n",
            "[Parallel(n_jobs=2)]: Done 196 tasks      | elapsed:    0.1s\n",
            "[Parallel(n_jobs=2)]: Done 446 tasks      | elapsed:    0.1s\n",
            "[Parallel(n_jobs=2)]: Done 796 tasks      | elapsed:    0.3s\n",
            "[Parallel(n_jobs=2)]: Done 1000 out of 1000 | elapsed:    0.3s finished\n",
            "[Parallel(n_jobs=-1)]: Using backend LokyBackend with 2 concurrent workers.\n",
            "[Parallel(n_jobs=-1)]: Done 164 tasks      | elapsed:    4.5s\n",
            "[Parallel(n_jobs=-1)]: Done 764 tasks      | elapsed:   21.2s\n",
            "[Parallel(n_jobs=-1)]: Done 1000 out of 1000 | elapsed:   27.6s finished\n",
            "[Parallel(n_jobs=2)]: Using backend ThreadingBackend with 2 concurrent workers.\n",
            "[Parallel(n_jobs=2)]: Done  46 tasks      | elapsed:    0.0s\n",
            "[Parallel(n_jobs=2)]: Done 196 tasks      | elapsed:    0.1s\n",
            "[Parallel(n_jobs=2)]: Done 446 tasks      | elapsed:    0.2s\n",
            "[Parallel(n_jobs=2)]: Done 796 tasks      | elapsed:    0.3s\n",
            "[Parallel(n_jobs=2)]: Done 1000 out of 1000 | elapsed:    0.4s finished\n",
            "[Parallel(n_jobs=-1)]: Using backend LokyBackend with 2 concurrent workers.\n",
            "[Parallel(n_jobs=-1)]: Done 164 tasks      | elapsed:    4.5s\n",
            "[Parallel(n_jobs=-1)]: Done 764 tasks      | elapsed:   21.1s\n",
            "[Parallel(n_jobs=-1)]: Done 1000 out of 1000 | elapsed:   27.8s finished\n",
            "[Parallel(n_jobs=2)]: Using backend ThreadingBackend with 2 concurrent workers.\n",
            "[Parallel(n_jobs=2)]: Done  46 tasks      | elapsed:    0.0s\n",
            "[Parallel(n_jobs=2)]: Done 196 tasks      | elapsed:    0.1s\n",
            "[Parallel(n_jobs=2)]: Done 446 tasks      | elapsed:    0.2s\n",
            "[Parallel(n_jobs=2)]: Done 796 tasks      | elapsed:    0.3s\n",
            "[Parallel(n_jobs=2)]: Done 1000 out of 1000 | elapsed:    0.4s finished\n"
          ],
          "name": "stderr"
        },
        {
          "output_type": "execute_result",
          "data": {
            "text/plain": [
              "array([-7.8278006 , -4.9572039 , -8.59549516, -5.51805623, -6.98083417])"
            ]
          },
          "metadata": {
            "tags": []
          },
          "execution_count": 21
        }
      ]
    },
    {
      "cell_type": "code",
      "metadata": {
        "id": "MBhp9EuCrQvR"
      },
      "source": [
        "fr_model_score(X_train_2, Y_train_2)"
      ],
      "execution_count": null,
      "outputs": []
    },
    {
      "cell_type": "code",
      "metadata": {
        "id": "k5rBhP8ZLOK4"
      },
      "source": [
        "def fr_model(X, y):\r\n",
        "# Perform Grid-Search\r\n",
        "    gsc = GridSearchCV(\r\n",
        "        estimator=RandomForestRegressor(),\r\n",
        "        param_grid={'max_depth': range(3,4), 'n_estimators': (500,1000)},\r\n",
        "        cv=5, scoring='neg_mean_squared_error', verbose=0, n_jobs=-1)\r\n",
        "    \r\n",
        "    grid_result = gsc.fit(X, y)\r\n",
        "    best_params = grid_result.best_params_\r\n",
        "    \r\n",
        "    rf = RandomForestRegressor(max_depth=best_params[\"max_depth\"], \r\n",
        "                               n_estimators=best_params[\"n_estimators\"], \r\n",
        "                               random_state=0, verbose=True, n_jobs=-1, max_features = 'auto')\r\n",
        "    rf.fit(X,y)\r\n",
        "\r\n",
        "    pred_Q = pd.DataFrame()\r\n",
        "    for pred in rf.estimators_:\r\n",
        "        temp = pd.Series(pred.predict(X_test).round(2))\r\n",
        "        pred_Q = pd.concat([pred_Q,temp],axis=1)\r\n",
        "    \r\n",
        "    return rf, pred_Q\r\n",
        "\r\n"
      ],
      "execution_count": null,
      "outputs": []
    },
    {
      "cell_type": "code",
      "metadata": {
        "id": "DVdrd71SMpB1"
      },
      "source": [
        "def train_data(X_train, Y_train):\r\n",
        "    RF_actual_pred = pd.DataFrame()\r\n",
        "\r\n",
        "    rf, pred_Q = fr_model(X_train, Y_train)\r\n",
        "\r\n",
        "    for q in quantiles:\r\n",
        "        s = pred_Q.quantile(q=q, axis=1)\r\n",
        "        RF_actual_pred = pd.concat([RF_actual_pred,s],axis=1,sort=False)\r\n",
        "\r\n",
        "    RF_actual_pred.columns=quantiles\r\n",
        "    RF_actual_pred = RF_actual_pred.round(2)\r\n",
        "    return RF_actual_pred\r\n",
        "\r\n"
      ],
      "execution_count": null,
      "outputs": []
    },
    {
      "cell_type": "code",
      "metadata": {
        "colab": {
          "base_uri": "https://localhost:8080/"
        },
        "id": "0gAdOqkypp5N",
        "outputId": "76d97baa-85b1-4a97-808f-044605002343"
      },
      "source": [
        "results_1 = train_data(X_train_1,Y_train_1)\r\n",
        "results_2 = train_data(X_train_2,Y_train_2)"
      ],
      "execution_count": null,
      "outputs": [
        {
          "output_type": "stream",
          "text": [
            "[Parallel(n_jobs=-1)]: Using backend ThreadingBackend with 2 concurrent workers.\n",
            "[Parallel(n_jobs=-1)]: Done  46 tasks      | elapsed:    1.5s\n",
            "[Parallel(n_jobs=-1)]: Done 196 tasks      | elapsed:    6.5s\n",
            "[Parallel(n_jobs=-1)]: Done 446 tasks      | elapsed:   14.6s\n",
            "[Parallel(n_jobs=-1)]: Done 500 out of 500 | elapsed:   16.4s finished\n",
            "[Parallel(n_jobs=-1)]: Using backend ThreadingBackend with 2 concurrent workers.\n",
            "[Parallel(n_jobs=-1)]: Done  46 tasks      | elapsed:    1.6s\n",
            "[Parallel(n_jobs=-1)]: Done 196 tasks      | elapsed:    6.6s\n",
            "[Parallel(n_jobs=-1)]: Done 446 tasks      | elapsed:   14.9s\n",
            "[Parallel(n_jobs=-1)]: Done 500 out of 500 | elapsed:   16.7s finished\n"
          ],
          "name": "stderr"
        }
      ]
    },
    {
      "cell_type": "code",
      "metadata": {
        "colab": {
          "base_uri": "https://localhost:8080/",
          "height": 407
        },
        "id": "J6ig6Jtpp7CV",
        "outputId": "cc49d709-ca2f-4fa1-f314-f0210e517b36"
      },
      "source": [
        "submission.loc[submission.id.str.contains(\"Day7\"), \"q_0.1\":] = results_1.values\r\n",
        "submission.loc[submission.id.str.contains(\"Day8\"), \"q_0.1\":] = results_2.values\r\n",
        "submission"
      ],
      "execution_count": null,
      "outputs": [
        {
          "output_type": "execute_result",
          "data": {
            "text/html": [
              "<div>\n",
              "<style scoped>\n",
              "    .dataframe tbody tr th:only-of-type {\n",
              "        vertical-align: middle;\n",
              "    }\n",
              "\n",
              "    .dataframe tbody tr th {\n",
              "        vertical-align: top;\n",
              "    }\n",
              "\n",
              "    .dataframe thead th {\n",
              "        text-align: right;\n",
              "    }\n",
              "</style>\n",
              "<table border=\"1\" class=\"dataframe\">\n",
              "  <thead>\n",
              "    <tr style=\"text-align: right;\">\n",
              "      <th></th>\n",
              "      <th>id</th>\n",
              "      <th>q_0.1</th>\n",
              "      <th>q_0.2</th>\n",
              "      <th>q_0.3</th>\n",
              "      <th>q_0.4</th>\n",
              "      <th>q_0.5</th>\n",
              "      <th>q_0.6</th>\n",
              "      <th>q_0.7</th>\n",
              "      <th>q_0.8</th>\n",
              "      <th>q_0.9</th>\n",
              "    </tr>\n",
              "  </thead>\n",
              "  <tbody>\n",
              "    <tr>\n",
              "      <th>0</th>\n",
              "      <td>0.csv_Day7_0h00m</td>\n",
              "      <td>0.0</td>\n",
              "      <td>0.0</td>\n",
              "      <td>0.00</td>\n",
              "      <td>0.00</td>\n",
              "      <td>0.00</td>\n",
              "      <td>0.00</td>\n",
              "      <td>0.00</td>\n",
              "      <td>0.00</td>\n",
              "      <td>0.01</td>\n",
              "    </tr>\n",
              "    <tr>\n",
              "      <th>1</th>\n",
              "      <td>0.csv_Day7_0h30m</td>\n",
              "      <td>0.0</td>\n",
              "      <td>0.0</td>\n",
              "      <td>0.00</td>\n",
              "      <td>0.00</td>\n",
              "      <td>0.00</td>\n",
              "      <td>0.00</td>\n",
              "      <td>0.00</td>\n",
              "      <td>0.00</td>\n",
              "      <td>0.01</td>\n",
              "    </tr>\n",
              "    <tr>\n",
              "      <th>2</th>\n",
              "      <td>0.csv_Day7_1h00m</td>\n",
              "      <td>0.0</td>\n",
              "      <td>0.0</td>\n",
              "      <td>0.00</td>\n",
              "      <td>0.00</td>\n",
              "      <td>0.00</td>\n",
              "      <td>0.00</td>\n",
              "      <td>0.00</td>\n",
              "      <td>0.00</td>\n",
              "      <td>0.01</td>\n",
              "    </tr>\n",
              "    <tr>\n",
              "      <th>3</th>\n",
              "      <td>0.csv_Day7_1h30m</td>\n",
              "      <td>0.0</td>\n",
              "      <td>0.0</td>\n",
              "      <td>0.00</td>\n",
              "      <td>0.00</td>\n",
              "      <td>0.00</td>\n",
              "      <td>0.00</td>\n",
              "      <td>0.00</td>\n",
              "      <td>0.00</td>\n",
              "      <td>0.01</td>\n",
              "    </tr>\n",
              "    <tr>\n",
              "      <th>4</th>\n",
              "      <td>0.csv_Day7_2h00m</td>\n",
              "      <td>0.0</td>\n",
              "      <td>0.0</td>\n",
              "      <td>0.00</td>\n",
              "      <td>0.00</td>\n",
              "      <td>0.00</td>\n",
              "      <td>0.00</td>\n",
              "      <td>0.00</td>\n",
              "      <td>0.00</td>\n",
              "      <td>0.01</td>\n",
              "    </tr>\n",
              "    <tr>\n",
              "      <th>...</th>\n",
              "      <td>...</td>\n",
              "      <td>...</td>\n",
              "      <td>...</td>\n",
              "      <td>...</td>\n",
              "      <td>...</td>\n",
              "      <td>...</td>\n",
              "      <td>...</td>\n",
              "      <td>...</td>\n",
              "      <td>...</td>\n",
              "      <td>...</td>\n",
              "    </tr>\n",
              "    <tr>\n",
              "      <th>7771</th>\n",
              "      <td>80.csv_Day8_21h30m</td>\n",
              "      <td>0.0</td>\n",
              "      <td>0.0</td>\n",
              "      <td>0.01</td>\n",
              "      <td>0.01</td>\n",
              "      <td>0.01</td>\n",
              "      <td>0.01</td>\n",
              "      <td>0.01</td>\n",
              "      <td>0.01</td>\n",
              "      <td>0.01</td>\n",
              "    </tr>\n",
              "    <tr>\n",
              "      <th>7772</th>\n",
              "      <td>80.csv_Day8_22h00m</td>\n",
              "      <td>0.0</td>\n",
              "      <td>0.0</td>\n",
              "      <td>0.01</td>\n",
              "      <td>0.01</td>\n",
              "      <td>0.01</td>\n",
              "      <td>0.01</td>\n",
              "      <td>0.01</td>\n",
              "      <td>0.01</td>\n",
              "      <td>0.01</td>\n",
              "    </tr>\n",
              "    <tr>\n",
              "      <th>7773</th>\n",
              "      <td>80.csv_Day8_22h30m</td>\n",
              "      <td>0.0</td>\n",
              "      <td>0.0</td>\n",
              "      <td>0.01</td>\n",
              "      <td>0.01</td>\n",
              "      <td>0.01</td>\n",
              "      <td>0.01</td>\n",
              "      <td>0.01</td>\n",
              "      <td>0.01</td>\n",
              "      <td>0.01</td>\n",
              "    </tr>\n",
              "    <tr>\n",
              "      <th>7774</th>\n",
              "      <td>80.csv_Day8_23h00m</td>\n",
              "      <td>0.0</td>\n",
              "      <td>0.0</td>\n",
              "      <td>0.01</td>\n",
              "      <td>0.01</td>\n",
              "      <td>0.01</td>\n",
              "      <td>0.01</td>\n",
              "      <td>0.01</td>\n",
              "      <td>0.01</td>\n",
              "      <td>0.01</td>\n",
              "    </tr>\n",
              "    <tr>\n",
              "      <th>7775</th>\n",
              "      <td>80.csv_Day8_23h30m</td>\n",
              "      <td>0.0</td>\n",
              "      <td>0.0</td>\n",
              "      <td>0.01</td>\n",
              "      <td>0.01</td>\n",
              "      <td>0.01</td>\n",
              "      <td>0.01</td>\n",
              "      <td>0.01</td>\n",
              "      <td>0.01</td>\n",
              "      <td>0.01</td>\n",
              "    </tr>\n",
              "  </tbody>\n",
              "</table>\n",
              "<p>7776 rows × 10 columns</p>\n",
              "</div>"
            ],
            "text/plain": [
              "                      id  q_0.1  q_0.2  q_0.3  ...  q_0.6  q_0.7  q_0.8  q_0.9\n",
              "0       0.csv_Day7_0h00m    0.0    0.0   0.00  ...   0.00   0.00   0.00   0.01\n",
              "1       0.csv_Day7_0h30m    0.0    0.0   0.00  ...   0.00   0.00   0.00   0.01\n",
              "2       0.csv_Day7_1h00m    0.0    0.0   0.00  ...   0.00   0.00   0.00   0.01\n",
              "3       0.csv_Day7_1h30m    0.0    0.0   0.00  ...   0.00   0.00   0.00   0.01\n",
              "4       0.csv_Day7_2h00m    0.0    0.0   0.00  ...   0.00   0.00   0.00   0.01\n",
              "...                  ...    ...    ...    ...  ...    ...    ...    ...    ...\n",
              "7771  80.csv_Day8_21h30m    0.0    0.0   0.01  ...   0.01   0.01   0.01   0.01\n",
              "7772  80.csv_Day8_22h00m    0.0    0.0   0.01  ...   0.01   0.01   0.01   0.01\n",
              "7773  80.csv_Day8_22h30m    0.0    0.0   0.01  ...   0.01   0.01   0.01   0.01\n",
              "7774  80.csv_Day8_23h00m    0.0    0.0   0.01  ...   0.01   0.01   0.01   0.01\n",
              "7775  80.csv_Day8_23h30m    0.0    0.0   0.01  ...   0.01   0.01   0.01   0.01\n",
              "\n",
              "[7776 rows x 10 columns]"
            ]
          },
          "metadata": {
            "tags": []
          },
          "execution_count": 18
        }
      ]
    },
    {
      "cell_type": "code",
      "metadata": {
        "id": "y9KRD-IPoamH"
      },
      "source": [
        "#submission.to_csv(data_path + './data/submission.csv', index=False)"
      ],
      "execution_count": null,
      "outputs": []
    }
  ]
}