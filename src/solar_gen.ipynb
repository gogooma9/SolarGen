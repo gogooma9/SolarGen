{
  "nbformat": 4,
  "nbformat_minor": 0,
  "metadata": {
    "kernelspec": {
      "display_name": "Python 3",
      "language": "python",
      "name": "python3"
    },
    "language_info": {
      "codemirror_mode": {
        "name": "ipython",
        "version": 3
      },
      "file_extension": ".py",
      "mimetype": "text/x-python",
      "name": "python",
      "nbconvert_exporter": "python",
      "pygments_lexer": "ipython3",
      "version": "3.6.12"
    },
    "colab": {
      "name": "solar_gen.ipynb",
      "provenance": [],
      "collapsed_sections": []
    }
  },
  "cells": [
    {
      "cell_type": "code",
      "metadata": {
        "id": "inDNCSssI9c6"
      },
      "source": [
        "from google.colab import drive\n",
        "drive.mount('/content/drive')"
      ],
      "execution_count": null,
      "outputs": []
    },
    {
      "cell_type": "code",
      "metadata": {
        "id": "0G12GfaP3dZj"
      },
      "source": [
        "import pandas as pd\r\n",
        "import numpy as np\r\n",
        "import os\r\n",
        "import glob\r\n",
        "import random\r\n",
        "\r\n",
        "import warnings\r\n",
        "warnings.filterwarnings(\"ignore\")\r\n",
        "\r\n",
        "data_path = '/content/drive/MyDrive/SolarGen/'"
      ],
      "execution_count": null,
      "outputs": []
    },
    {
      "cell_type": "markdown",
      "metadata": {
        "id": "JU3G-tGyIzdz"
      },
      "source": [
        "## Baseline"
      ]
    },
    {
      "cell_type": "code",
      "metadata": {
        "id": "MD5g6Zm76YPs"
      },
      "source": [
        "train = pd.read_csv(data_path + './data/train/train.csv')\r\n",
        "submission = pd.read_csv(data_path + './data/sample_submission.csv')"
      ],
      "execution_count": null,
      "outputs": []
    },
    {
      "cell_type": "code",
      "metadata": {
        "id": "1H-79VvpioE1"
      },
      "source": [
        "\"\"\"\r\n",
        "For testing data preprocessing\r\n",
        "1. Define preprocessing function.\r\n",
        "2. Apply to train data.\r\n",
        "3. Compare quantile value\r\n",
        "\r\n",
        "Example is as follows.\r\n",
        "\"\"\"\r\n",
        "from sklearn.preprocessing import MinMaxScaler, StandardScaler, RobustScaler\r\n",
        "\r\n",
        "def minmax_scaling(data, scaler):\r\n",
        "\r\n",
        "    target_cols = ['DHI', 'DNI', 'WS', 'RH', 'T']\r\n",
        "    for col in target_cols:\r\n",
        "        target = data[[col]]\r\n",
        "        scaler.fit(target)\r\n",
        "        data[col] = scaler.transform(target).flatten()\r\n",
        "        \r\n",
        "    return data\r\n",
        "\r\n",
        "def standard_scaling(data,scaler):\r\n",
        "    target_cols = ['DHI', 'DNI', 'WS', 'RH', 'T']\r\n",
        "    for col in target_cols:\r\n",
        "        target = data[[col]]\r\n",
        "        scaler.fit(target)\r\n",
        "        data[col] = scaler.transform(target).flatten()\r\n",
        "\r\n",
        "    return data\r\n",
        "\r\n",
        "train = standard_scaling(train, StandardScaler())       "
      ],
      "execution_count": null,
      "outputs": []
    },
    {
      "cell_type": "code",
      "metadata": {
        "id": "Yh00Je1ywOYz"
      },
      "source": [
        "import matplotlib.pyplot as plt\r\n",
        "\r\n",
        "train.plot(subplots=True, layout=(3,3), figsize=(20,15))"
      ],
      "execution_count": null,
      "outputs": []
    },
    {
      "cell_type": "code",
      "metadata": {
        "id": "gCD4KKYL6YRw"
      },
      "source": [
        "def preprocess_data(data, is_train=True):\r\n",
        "    \r\n",
        "    temp = data.copy()\r\n",
        "    temp = temp[['Hour', 'TARGET', 'DHI', 'DNI', 'WS', 'RH', 'T']]\r\n",
        "\r\n",
        "    if is_train==True:          \r\n",
        "    \r\n",
        "        temp['Target1'] = temp['TARGET'].shift(-48).fillna(method='ffill')\r\n",
        "        temp['Target2'] = temp['TARGET'].shift(-48*2).fillna(method='ffill')\r\n",
        "        temp = temp.dropna()\r\n",
        "        \r\n",
        "        return temp.iloc[:-96]\r\n",
        "\r\n",
        "    elif is_train==False:\r\n",
        "        \r\n",
        "        temp = temp[['Hour', 'TARGET', 'DHI', 'DNI', 'WS', 'RH', 'T']]\r\n",
        "                              \r\n",
        "        return temp.iloc[-48:, :]\r\n",
        "\r\n",
        "\r\n",
        "df_train = preprocess_data(train)\r\n",
        "df_train.iloc[:48]"
      ],
      "execution_count": null,
      "outputs": []
    },
    {
      "cell_type": "code",
      "metadata": {
        "id": "zevLTDCn6YUA"
      },
      "source": [
        "df_test = []\r\n",
        "\r\n",
        "for i in range(81):\r\n",
        "    file_path = data_path + './data/test/' + str(i) + '.csv'\r\n",
        "    temp = pd.read_csv(file_path)\r\n",
        "    temp = preprocess_data(temp, is_train=False)\r\n",
        "    df_test.append(temp)\r\n",
        "\r\n",
        "X_test = pd.concat(df_test)\r\n",
        "X_test.shape"
      ],
      "execution_count": null,
      "outputs": []
    },
    {
      "cell_type": "code",
      "metadata": {
        "id": "4TZG7JXF-Ezw"
      },
      "source": [
        "X_test.head()"
      ],
      "execution_count": null,
      "outputs": []
    },
    {
      "cell_type": "code",
      "metadata": {
        "id": "wuvc3iJl6YWI"
      },
      "source": [
        "from sklearn.model_selection import train_test_split\r\n",
        "X_train_1, X_valid_1, Y_train_1, Y_valid_1 = train_test_split(df_train.iloc[:, :-2], df_train.iloc[:, -2], test_size=0.3, random_state=0)\r\n",
        "X_train_2, X_valid_2, Y_train_2, Y_valid_2 = train_test_split(df_train.iloc[:, :-2], df_train.iloc[:, -1], test_size=0.3, random_state=0)"
      ],
      "execution_count": null,
      "outputs": []
    },
    {
      "cell_type": "code",
      "metadata": {
        "id": "8jkD1ucj74Bo"
      },
      "source": [
        "quantiles = [0.1, 0.2, 0.3, 0.4, 0.5, 0.6, 0.7, 0.8, 0.9]"
      ],
      "execution_count": null,
      "outputs": []
    },
    {
      "cell_type": "code",
      "metadata": {
        "id": "ipeT12zx75DV"
      },
      "source": [
        "from lightgbm import LGBMRegressor\r\n",
        "\r\n",
        "# Get the model and the predictions in (a) - (b)\r\n",
        "def LGBM(q, X_train, Y_train, X_valid, Y_valid, X_test):\r\n",
        "    \r\n",
        "    # (a) Modeling  \r\n",
        "    model = LGBMRegressor(objective='quantile', alpha=q,\r\n",
        "                         n_estimators=10000, bagging_fraction=0.7, learning_rate=0.027, subsample=0.7)                   \r\n",
        "                         \r\n",
        "                         \r\n",
        "    model.fit(X_train, Y_train, eval_metric = ['quantile'], \r\n",
        "          eval_set=[(X_valid, Y_valid)], early_stopping_rounds=300, verbose=500)\r\n",
        "\r\n",
        "    # (b) Predictions\r\n",
        "    pred = pd.Series(model.predict(X_test).round(2))\r\n",
        "    return pred, model"
      ],
      "execution_count": null,
      "outputs": []
    },
    {
      "cell_type": "code",
      "metadata": {
        "id": "TN6O5hDpIzd-"
      },
      "source": [
        "# Target 예측\n",
        "import sys\n",
        "from io import StringIO\n",
        "\n",
        "def get_best_quantiles(data):\n",
        "\n",
        "    best_indexes = []\n",
        "    best_quantiles = {}\n",
        "\n",
        "    lines = data.splitlines()\n",
        "\n",
        "    for i, line in enumerate(lines):\n",
        "        if \"best\" in line:\n",
        "            best_indexes.append(i+1)\n",
        "\n",
        "    for i in range(9):\n",
        "        key = (i+1) * 0.1\n",
        "        val = float(lines[best_indexes[i]].split(\":\")[-1].strip())\n",
        "        best_quantiles[key] = val\n",
        "\n",
        "    return best_quantiles\n",
        "\n",
        "def train_data(X_train, Y_train, X_valid, Y_valid, X_test):\n",
        "\n",
        "    LGBM_models=[]\n",
        "    LGBM_actual_pred = pd.DataFrame()\n",
        "    \n",
        "    old_stdout = sys.stdout\n",
        "    sys.stdout = my_stdout = StringIO()\n",
        "    for q in quantiles:\n",
        "        print(q)\n",
        "        pred , model = LGBM(q, X_train, Y_train, X_valid, Y_valid, X_test)\n",
        "        LGBM_models.append(model)\n",
        "        LGBM_actual_pred = pd.concat([LGBM_actual_pred,pred],axis=1)\n",
        "    \n",
        "    sys.stdout = old_stdout\n",
        "    results_out = my_stdout.getvalue()\n",
        "    LGBM_losses = get_best_quantiles(results_out)\n",
        "\n",
        "    LGBM_actual_pred.columns=quantiles\n",
        "    \n",
        "    return LGBM_models, LGBM_actual_pred, LGBM_losses"
      ],
      "execution_count": null,
      "outputs": []
    },
    {
      "cell_type": "code",
      "metadata": {
        "id": "hfiWBL1yIzd-"
      },
      "source": [
        "# Target1\n",
        "models_1, results_1, loss_1 = train_data(X_train_1, Y_train_1, X_valid_1, Y_valid_1, X_test)\n",
        "results_1.sort_index()[:48]"
      ],
      "execution_count": null,
      "outputs": []
    },
    {
      "cell_type": "code",
      "metadata": {
        "id": "qZQB5gs2_JHj"
      },
      "source": [
        "for key, val in loss_1.items():\r\n",
        "    print(\"[%.1f]\"%key + \"\\t%f\"%val)\r\n",
        "print(\"[avg]\\t%.6f\"%np.average(list(loss_1.values())))"
      ],
      "execution_count": null,
      "outputs": []
    },
    {
      "cell_type": "code",
      "metadata": {
        "id": "royiK6DBIzd_"
      },
      "source": [
        "# Target2\n",
        "models_2, results_2, loss_2 = train_data(X_train_2, Y_train_2, X_valid_2, Y_valid_2, X_test)\n",
        "results_2.sort_index()[:48]"
      ],
      "execution_count": null,
      "outputs": []
    },
    {
      "cell_type": "code",
      "metadata": {
        "id": "NAgofGmeJkCw"
      },
      "source": [
        "for key, val in loss_2.items():\r\n",
        "    print(\"[%.1f]\"%key + \"\\t%f\"%val)\r\n",
        "print(\"[avg]\\t%.6f\"%np.average(list(loss_2.values())))"
      ],
      "execution_count": null,
      "outputs": []
    },
    {
      "cell_type": "code",
      "metadata": {
        "id": "oTEk70sUIzeA"
      },
      "source": [
        "submission.loc[submission.id.str.contains(\"Day7\"), \"q_0.1\":] = results_1.values\n",
        "submission.loc[submission.id.str.contains(\"Day8\"), \"q_0.1\":] = results_2.values\n",
        "submission"
      ],
      "execution_count": null,
      "outputs": []
    },
    {
      "cell_type": "code",
      "metadata": {
        "id": "Cxno8RIJDJfV"
      },
      "source": [
        "submission.iloc[:48]"
      ],
      "execution_count": null,
      "outputs": []
    },
    {
      "cell_type": "code",
      "metadata": {
        "id": "-huALc-2IzeB"
      },
      "source": [
        "# submission.to_csv(data_path + './data/submission.csv', index=False)"
      ],
      "execution_count": null,
      "outputs": []
    }
  ]
}